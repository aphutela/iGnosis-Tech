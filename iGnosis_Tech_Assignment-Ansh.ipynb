{
 "cells": [
  {
   "cell_type": "code",
   "execution_count": 2,
   "id": "66d5a491",
   "metadata": {},
   "outputs": [],
   "source": [
    "import pandas as pd\n",
    "import matplotlib.pyplot as plt\n",
    "import seaborn as sns\n",
    "import numpy as np"
   ]
  },
  {
   "cell_type": "markdown",
   "id": "383a6775",
   "metadata": {},
   "source": [
    "### Loading The data:"
   ]
  },
  {
   "cell_type": "code",
   "execution_count": 5,
   "id": "b858e873",
   "metadata": {},
   "outputs": [],
   "source": [
    "transaction_df = pd.read_csv(\"transaction_data.csv\")"
   ]
  },
  {
   "cell_type": "code",
   "execution_count": 6,
   "id": "7283d5d7",
   "metadata": {},
   "outputs": [
    {
     "data": {
      "text/html": [
       "<div>\n",
       "<style scoped>\n",
       "    .dataframe tbody tr th:only-of-type {\n",
       "        vertical-align: middle;\n",
       "    }\n",
       "\n",
       "    .dataframe tbody tr th {\n",
       "        vertical-align: top;\n",
       "    }\n",
       "\n",
       "    .dataframe thead th {\n",
       "        text-align: right;\n",
       "    }\n",
       "</style>\n",
       "<table border=\"1\" class=\"dataframe\">\n",
       "  <thead>\n",
       "    <tr style=\"text-align: right;\">\n",
       "      <th></th>\n",
       "      <th>DATE</th>\n",
       "      <th>STORE_NBR</th>\n",
       "      <th>LYLTY_CARD_NBR</th>\n",
       "      <th>TXN_ID</th>\n",
       "      <th>PROD_NBR</th>\n",
       "      <th>PROD_NAME</th>\n",
       "      <th>PROD_QTY</th>\n",
       "      <th>TOT_SALES</th>\n",
       "    </tr>\n",
       "  </thead>\n",
       "  <tbody>\n",
       "    <tr>\n",
       "      <th>0</th>\n",
       "      <td>43390</td>\n",
       "      <td>1</td>\n",
       "      <td>1000</td>\n",
       "      <td>1</td>\n",
       "      <td>5</td>\n",
       "      <td>Natural Chip        Compny SeaSalt175g</td>\n",
       "      <td>2</td>\n",
       "      <td>6.0</td>\n",
       "    </tr>\n",
       "    <tr>\n",
       "      <th>1</th>\n",
       "      <td>43599</td>\n",
       "      <td>1</td>\n",
       "      <td>1307</td>\n",
       "      <td>348</td>\n",
       "      <td>66</td>\n",
       "      <td>CCs Nacho Cheese    175g</td>\n",
       "      <td>3</td>\n",
       "      <td>6.3</td>\n",
       "    </tr>\n",
       "    <tr>\n",
       "      <th>2</th>\n",
       "      <td>43605</td>\n",
       "      <td>1</td>\n",
       "      <td>1343</td>\n",
       "      <td>383</td>\n",
       "      <td>61</td>\n",
       "      <td>Smiths Crinkle Cut  Chips Chicken 170g</td>\n",
       "      <td>2</td>\n",
       "      <td>2.9</td>\n",
       "    </tr>\n",
       "    <tr>\n",
       "      <th>3</th>\n",
       "      <td>43329</td>\n",
       "      <td>2</td>\n",
       "      <td>2373</td>\n",
       "      <td>974</td>\n",
       "      <td>69</td>\n",
       "      <td>Smiths Chip Thinly  S/Cream&amp;Onion 175g</td>\n",
       "      <td>5</td>\n",
       "      <td>15.0</td>\n",
       "    </tr>\n",
       "    <tr>\n",
       "      <th>4</th>\n",
       "      <td>43330</td>\n",
       "      <td>2</td>\n",
       "      <td>2426</td>\n",
       "      <td>1038</td>\n",
       "      <td>108</td>\n",
       "      <td>Kettle Tortilla ChpsHny&amp;Jlpno Chili 150g</td>\n",
       "      <td>3</td>\n",
       "      <td>13.8</td>\n",
       "    </tr>\n",
       "  </tbody>\n",
       "</table>\n",
       "</div>"
      ],
      "text/plain": [
       "    DATE  STORE_NBR  LYLTY_CARD_NBR  TXN_ID  PROD_NBR  \\\n",
       "0  43390          1            1000       1         5   \n",
       "1  43599          1            1307     348        66   \n",
       "2  43605          1            1343     383        61   \n",
       "3  43329          2            2373     974        69   \n",
       "4  43330          2            2426    1038       108   \n",
       "\n",
       "                                  PROD_NAME  PROD_QTY  TOT_SALES  \n",
       "0    Natural Chip        Compny SeaSalt175g         2        6.0  \n",
       "1                  CCs Nacho Cheese    175g         3        6.3  \n",
       "2    Smiths Crinkle Cut  Chips Chicken 170g         2        2.9  \n",
       "3    Smiths Chip Thinly  S/Cream&Onion 175g         5       15.0  \n",
       "4  Kettle Tortilla ChpsHny&Jlpno Chili 150g         3       13.8  "
      ]
     },
     "execution_count": 6,
     "metadata": {},
     "output_type": "execute_result"
    }
   ],
   "source": [
    "transaction_df.head()"
   ]
  },
  {
   "cell_type": "code",
   "execution_count": 9,
   "id": "71e5cb23",
   "metadata": {},
   "outputs": [
    {
     "data": {
      "text/plain": [
       "Index(['DATE', 'STORE_NBR', 'LYLTY_CARD_NBR', 'TXN_ID', 'PROD_NBR',\n",
       "       'PROD_NAME', 'PROD_QTY', 'TOT_SALES'],\n",
       "      dtype='object')"
      ]
     },
     "execution_count": 9,
     "metadata": {},
     "output_type": "execute_result"
    }
   ],
   "source": [
    "transaction_df.columns"
   ]
  },
  {
   "cell_type": "code",
   "execution_count": 10,
   "id": "d6c77f00",
   "metadata": {},
   "outputs": [],
   "source": [
    "purchase_behaviour_df = pd.read_csv(\"purchase_behaviour.csv\")"
   ]
  },
  {
   "cell_type": "code",
   "execution_count": 11,
   "id": "47eef703",
   "metadata": {},
   "outputs": [
    {
     "data": {
      "text/html": [
       "<div>\n",
       "<style scoped>\n",
       "    .dataframe tbody tr th:only-of-type {\n",
       "        vertical-align: middle;\n",
       "    }\n",
       "\n",
       "    .dataframe tbody tr th {\n",
       "        vertical-align: top;\n",
       "    }\n",
       "\n",
       "    .dataframe thead th {\n",
       "        text-align: right;\n",
       "    }\n",
       "</style>\n",
       "<table border=\"1\" class=\"dataframe\">\n",
       "  <thead>\n",
       "    <tr style=\"text-align: right;\">\n",
       "      <th></th>\n",
       "      <th>LYLTY_CARD_NBR</th>\n",
       "      <th>LIFESTAGE</th>\n",
       "      <th>PREMIUM_CUSTOMER</th>\n",
       "    </tr>\n",
       "  </thead>\n",
       "  <tbody>\n",
       "    <tr>\n",
       "      <th>0</th>\n",
       "      <td>1000</td>\n",
       "      <td>YOUNG SINGLES/COUPLES</td>\n",
       "      <td>Premium</td>\n",
       "    </tr>\n",
       "    <tr>\n",
       "      <th>1</th>\n",
       "      <td>1002</td>\n",
       "      <td>YOUNG SINGLES/COUPLES</td>\n",
       "      <td>Mainstream</td>\n",
       "    </tr>\n",
       "    <tr>\n",
       "      <th>2</th>\n",
       "      <td>1003</td>\n",
       "      <td>YOUNG FAMILIES</td>\n",
       "      <td>Budget</td>\n",
       "    </tr>\n",
       "    <tr>\n",
       "      <th>3</th>\n",
       "      <td>1004</td>\n",
       "      <td>OLDER SINGLES/COUPLES</td>\n",
       "      <td>Mainstream</td>\n",
       "    </tr>\n",
       "    <tr>\n",
       "      <th>4</th>\n",
       "      <td>1005</td>\n",
       "      <td>MIDAGE SINGLES/COUPLES</td>\n",
       "      <td>Mainstream</td>\n",
       "    </tr>\n",
       "  </tbody>\n",
       "</table>\n",
       "</div>"
      ],
      "text/plain": [
       "   LYLTY_CARD_NBR               LIFESTAGE PREMIUM_CUSTOMER\n",
       "0            1000   YOUNG SINGLES/COUPLES          Premium\n",
       "1            1002   YOUNG SINGLES/COUPLES       Mainstream\n",
       "2            1003          YOUNG FAMILIES           Budget\n",
       "3            1004   OLDER SINGLES/COUPLES       Mainstream\n",
       "4            1005  MIDAGE SINGLES/COUPLES       Mainstream"
      ]
     },
     "execution_count": 11,
     "metadata": {},
     "output_type": "execute_result"
    }
   ],
   "source": [
    "purchase_behaviour_df.head()"
   ]
  },
  {
   "cell_type": "code",
   "execution_count": 13,
   "id": "42a75750",
   "metadata": {},
   "outputs": [
    {
     "data": {
      "text/plain": [
       "Index(['LYLTY_CARD_NBR', 'LIFESTAGE', 'PREMIUM_CUSTOMER'], dtype='object')"
      ]
     },
     "execution_count": 13,
     "metadata": {},
     "output_type": "execute_result"
    }
   ],
   "source": [
    "purchase_behaviour_df.columns"
   ]
  },
  {
   "cell_type": "markdown",
   "id": "1ebd951a",
   "metadata": {},
   "source": [
    "### The feature \"LYLTY_CARD_NBR\" is in both the datasets so using it for merging."
   ]
  },
  {
   "cell_type": "code",
   "execution_count": 15,
   "id": "8c7b765b",
   "metadata": {},
   "outputs": [
    {
     "name": "stdout",
     "output_type": "stream",
     "text": [
      "\n",
      "Merged Data Preview:\n"
     ]
    },
    {
     "data": {
      "text/html": [
       "<div>\n",
       "<style scoped>\n",
       "    .dataframe tbody tr th:only-of-type {\n",
       "        vertical-align: middle;\n",
       "    }\n",
       "\n",
       "    .dataframe tbody tr th {\n",
       "        vertical-align: top;\n",
       "    }\n",
       "\n",
       "    .dataframe thead th {\n",
       "        text-align: right;\n",
       "    }\n",
       "</style>\n",
       "<table border=\"1\" class=\"dataframe\">\n",
       "  <thead>\n",
       "    <tr style=\"text-align: right;\">\n",
       "      <th></th>\n",
       "      <th>DATE</th>\n",
       "      <th>STORE_NBR</th>\n",
       "      <th>LYLTY_CARD_NBR</th>\n",
       "      <th>TXN_ID</th>\n",
       "      <th>PROD_NBR</th>\n",
       "      <th>PROD_NAME</th>\n",
       "      <th>PROD_QTY</th>\n",
       "      <th>TOT_SALES</th>\n",
       "      <th>LIFESTAGE</th>\n",
       "      <th>PREMIUM_CUSTOMER</th>\n",
       "    </tr>\n",
       "  </thead>\n",
       "  <tbody>\n",
       "    <tr>\n",
       "      <th>0</th>\n",
       "      <td>43390</td>\n",
       "      <td>1</td>\n",
       "      <td>1000</td>\n",
       "      <td>1</td>\n",
       "      <td>5</td>\n",
       "      <td>Natural Chip        Compny SeaSalt175g</td>\n",
       "      <td>2</td>\n",
       "      <td>6.0</td>\n",
       "      <td>YOUNG SINGLES/COUPLES</td>\n",
       "      <td>Premium</td>\n",
       "    </tr>\n",
       "    <tr>\n",
       "      <th>1</th>\n",
       "      <td>43599</td>\n",
       "      <td>1</td>\n",
       "      <td>1307</td>\n",
       "      <td>348</td>\n",
       "      <td>66</td>\n",
       "      <td>CCs Nacho Cheese    175g</td>\n",
       "      <td>3</td>\n",
       "      <td>6.3</td>\n",
       "      <td>MIDAGE SINGLES/COUPLES</td>\n",
       "      <td>Budget</td>\n",
       "    </tr>\n",
       "    <tr>\n",
       "      <th>2</th>\n",
       "      <td>43414</td>\n",
       "      <td>1</td>\n",
       "      <td>1307</td>\n",
       "      <td>346</td>\n",
       "      <td>96</td>\n",
       "      <td>WW Original Stacked Chips 160g</td>\n",
       "      <td>2</td>\n",
       "      <td>3.8</td>\n",
       "      <td>MIDAGE SINGLES/COUPLES</td>\n",
       "      <td>Budget</td>\n",
       "    </tr>\n",
       "    <tr>\n",
       "      <th>3</th>\n",
       "      <td>43533</td>\n",
       "      <td>1</td>\n",
       "      <td>1307</td>\n",
       "      <td>347</td>\n",
       "      <td>54</td>\n",
       "      <td>CCs Original 175g</td>\n",
       "      <td>1</td>\n",
       "      <td>2.1</td>\n",
       "      <td>MIDAGE SINGLES/COUPLES</td>\n",
       "      <td>Budget</td>\n",
       "    </tr>\n",
       "    <tr>\n",
       "      <th>4</th>\n",
       "      <td>43605</td>\n",
       "      <td>1</td>\n",
       "      <td>1343</td>\n",
       "      <td>383</td>\n",
       "      <td>61</td>\n",
       "      <td>Smiths Crinkle Cut  Chips Chicken 170g</td>\n",
       "      <td>2</td>\n",
       "      <td>2.9</td>\n",
       "      <td>MIDAGE SINGLES/COUPLES</td>\n",
       "      <td>Budget</td>\n",
       "    </tr>\n",
       "  </tbody>\n",
       "</table>\n",
       "</div>"
      ],
      "text/plain": [
       "    DATE  STORE_NBR  LYLTY_CARD_NBR  TXN_ID  PROD_NBR  \\\n",
       "0  43390          1            1000       1         5   \n",
       "1  43599          1            1307     348        66   \n",
       "2  43414          1            1307     346        96   \n",
       "3  43533          1            1307     347        54   \n",
       "4  43605          1            1343     383        61   \n",
       "\n",
       "                                PROD_NAME  PROD_QTY  TOT_SALES  \\\n",
       "0  Natural Chip        Compny SeaSalt175g         2        6.0   \n",
       "1                CCs Nacho Cheese    175g         3        6.3   \n",
       "2          WW Original Stacked Chips 160g         2        3.8   \n",
       "3                       CCs Original 175g         1        2.1   \n",
       "4  Smiths Crinkle Cut  Chips Chicken 170g         2        2.9   \n",
       "\n",
       "                LIFESTAGE PREMIUM_CUSTOMER  \n",
       "0   YOUNG SINGLES/COUPLES          Premium  \n",
       "1  MIDAGE SINGLES/COUPLES           Budget  \n",
       "2  MIDAGE SINGLES/COUPLES           Budget  \n",
       "3  MIDAGE SINGLES/COUPLES           Budget  \n",
       "4  MIDAGE SINGLES/COUPLES           Budget  "
      ]
     },
     "execution_count": 15,
     "metadata": {},
     "output_type": "execute_result"
    }
   ],
   "source": [
    "df = transaction_df.merge(purchase_behaviour_df, on='LYLTY_CARD_NBR')\n",
    "\n",
    "print(\"\\nMerged Data Preview:\")\n",
    "df.head()"
   ]
  },
  {
   "cell_type": "markdown",
   "id": "0660182e",
   "metadata": {},
   "source": [
    "## Assuming 'TOT_SALES' represents the sales amount finding most profitable products:"
   ]
  },
  {
   "cell_type": "code",
   "execution_count": 16,
   "id": "2bacf317",
   "metadata": {},
   "outputs": [
    {
     "name": "stdout",
     "output_type": "stream",
     "text": [
      "\n",
      "Top 3 Most Profitable Products:\n",
      "                                   PROD_NAME  TOT_SALES\n",
      "11          Dorito Corn Chp     Supreme 380g    40352.0\n",
      "86    Smiths Crnkle Chip  Orgnl Big Bag 380g    36367.6\n",
      "77  Smiths Crinkle Chips Salt & Vinegar 330g    34804.2\n"
     ]
    }
   ],
   "source": [
    "profit_by_product = df.groupby('PROD_NAME')['TOT_SALES'].sum().reset_index()\n",
    "\n",
    "# Sort products by total sales in descending order\n",
    "profit_by_product.sort_values(by='TOT_SALES', ascending=False, inplace=True)\n",
    "\n",
    "# Extract the top 3 products\n",
    "top3_products = profit_by_product.head(3)\n",
    "print(\"\\nTop 3 Most Profitable Products:\")\n",
    "print(top3_products)"
   ]
  },
  {
   "cell_type": "markdown",
   "id": "af0408ac",
   "metadata": {},
   "source": [
    "## Contribution of top 3 most profitable products in total sales:"
   ]
  },
  {
   "cell_type": "code",
   "execution_count": 30,
   "id": "07f76bdd",
   "metadata": {},
   "outputs": [
    {
     "name": "stdout",
     "output_type": "stream",
     "text": [
      "The top 3 products contribute 5.77% to the total sales.\n"
     ]
    }
   ],
   "source": [
    "# Calculate total sales across all products\n",
    "total_sales = df['TOT_SALES'].sum()\n",
    "\n",
    "# Calculate contribution of top 3 products\n",
    "top3_sales = top3_products['TOT_SALES'].sum()\n",
    "contribution_percentage = (top3_sales / total_sales) * 100\n",
    "\n",
    "print(f\"The top 3 products contribute {contribution_percentage:.2f}% to the total sales.\")"
   ]
  },
  {
   "cell_type": "markdown",
   "id": "3df32c6b",
   "metadata": {},
   "source": [
    "## Plotting the top 3 products"
   ]
  },
  {
   "cell_type": "code",
   "execution_count": 20,
   "id": "7a5cebc6",
   "metadata": {},
   "outputs": [
    {
     "data": {
      "image/png": "[encoded data removed]",
      "text/plain": [
       "<Figure size 1800x1000 with 1 Axes>"
      ]
     },
     "metadata": {},
     "output_type": "display_data"
    }
   ],
   "source": [
    "plt.figure(figsize=(18, 10))\n",
    "sns.barplot(x='PROD_NAME', y='TOT_SALES', data=top3_products, palette=\"viridis\")\n",
    "plt.title(\"Top 3 Most Profitable Products\")\n",
    "plt.xlabel(\"Product Name\")\n",
    "plt.ylabel(\"Total Sales\")\n",
    "plt.tight_layout()\n",
    "plt.show()"
   ]
  },
  {
   "cell_type": "code",
   "execution_count": null,
   "id": "293100ca",
   "metadata": {},
   "outputs": [],
   "source": [
    "# --------------------------\n",
    "# 4. Identifying Loyal Customers with assuming them as Loyan when They have bought more than x products. say (x = 10)"
   ]
  },
  {
   "cell_type": "code",
   "execution_count": 26,
   "id": "62c1ca02",
   "metadata": {},
   "outputs": [
    {
     "name": "stdout",
     "output_type": "stream",
     "text": [
      "\n",
      "Number of Loyal Customers: 1220\n",
      "Sample Loyal Customers:\n"
     ]
    },
    {
     "data": {
      "text/html": [
       "<div>\n",
       "<style scoped>\n",
       "    .dataframe tbody tr th:only-of-type {\n",
       "        vertical-align: middle;\n",
       "    }\n",
       "\n",
       "    .dataframe tbody tr th {\n",
       "        vertical-align: top;\n",
       "    }\n",
       "\n",
       "    .dataframe thead th {\n",
       "        text-align: right;\n",
       "    }\n",
       "</style>\n",
       "<table border=\"1\" class=\"dataframe\">\n",
       "  <thead>\n",
       "    <tr style=\"text-align: right;\">\n",
       "      <th></th>\n",
       "      <th>transaction_count</th>\n",
       "      <th>TOT_SALES</th>\n",
       "      <th>LIFESTAGE</th>\n",
       "      <th>PREMIUM_CUSTOMER</th>\n",
       "    </tr>\n",
       "    <tr>\n",
       "      <th>LYLTY_CARD_NBR</th>\n",
       "      <th></th>\n",
       "      <th></th>\n",
       "      <th></th>\n",
       "      <th></th>\n",
       "    </tr>\n",
       "  </thead>\n",
       "  <tbody>\n",
       "    <tr>\n",
       "      <th>3153</th>\n",
       "      <td>13</td>\n",
       "      <td>116.4</td>\n",
       "      <td>MIDAGE SINGLES/COUPLES</td>\n",
       "      <td>Premium</td>\n",
       "    </tr>\n",
       "    <tr>\n",
       "      <th>4046</th>\n",
       "      <td>11</td>\n",
       "      <td>82.4</td>\n",
       "      <td>OLDER FAMILIES</td>\n",
       "      <td>Mainstream</td>\n",
       "    </tr>\n",
       "    <tr>\n",
       "      <th>4233</th>\n",
       "      <td>12</td>\n",
       "      <td>107.2</td>\n",
       "      <td>OLDER FAMILIES</td>\n",
       "      <td>Mainstream</td>\n",
       "    </tr>\n",
       "    <tr>\n",
       "      <th>5025</th>\n",
       "      <td>14</td>\n",
       "      <td>94.5</td>\n",
       "      <td>YOUNG FAMILIES</td>\n",
       "      <td>Premium</td>\n",
       "    </tr>\n",
       "    <tr>\n",
       "      <th>5034</th>\n",
       "      <td>12</td>\n",
       "      <td>94.7</td>\n",
       "      <td>YOUNG FAMILIES</td>\n",
       "      <td>Premium</td>\n",
       "    </tr>\n",
       "  </tbody>\n",
       "</table>\n",
       "</div>"
      ],
      "text/plain": [
       "                transaction_count  TOT_SALES               LIFESTAGE  \\\n",
       "LYLTY_CARD_NBR                                                         \n",
       "3153                           13      116.4  MIDAGE SINGLES/COUPLES   \n",
       "4046                           11       82.4          OLDER FAMILIES   \n",
       "4233                           12      107.2          OLDER FAMILIES   \n",
       "5025                           14       94.5          YOUNG FAMILIES   \n",
       "5034                           12       94.7          YOUNG FAMILIES   \n",
       "\n",
       "               PREMIUM_CUSTOMER  \n",
       "LYLTY_CARD_NBR                   \n",
       "3153                    Premium  \n",
       "4046                 Mainstream  \n",
       "4233                 Mainstream  \n",
       "5025                    Premium  \n",
       "5034                    Premium  "
      ]
     },
     "execution_count": 26,
     "metadata": {},
     "output_type": "execute_result"
    }
   ],
   "source": [
    "# Define \"loyal\" customers based on transaction frequency\n",
    "customer_data = df.groupby('LYLTY_CARD_NBR').agg({\n",
    "    'TXN_ID': 'count',               # Count of transactions\n",
    "    'TOT_SALES': 'sum',              # Total amount spent\n",
    "    'LIFESTAGE': 'first',            # Assuming these values remain consistent per customer\n",
    "    'PREMIUM_CUSTOMER': 'first'      # Assuming these values remain consistent per customer\n",
    "}).rename(columns={'TXN_ID': 'transaction_count'})\n",
    "\n",
    "# Define loyal customers as those with more than a set number of transactions\n",
    "loyal_threshold = 10\n",
    "loyal_customers = customer_data[customer_data['transaction_count'] > loyal_threshold]\n",
    "\n",
    "print(\"\\nNumber of Loyal Customers:\", loyal_customers.shape[0])\n",
    "print(\"Sample Loyal Customers:\")\n",
    "loyal_customers.head()"
   ]
  },
  {
   "cell_type": "markdown",
   "id": "1dda9b80",
   "metadata": {},
   "source": [
    "## Analyzing customer attributes like LIFESTAGE and PREMIUM_CUSTOMER:"
   ]
  },
  {
   "cell_type": "code",
   "execution_count": 27,
   "id": "4192b2df",
   "metadata": {},
   "outputs": [
    {
     "data": {
      "image/png": "[encoded data removed]",
      "text/plain": [
       "<Figure size 2000x1000 with 1 Axes>"
      ]
     },
     "metadata": {},
     "output_type": "display_data"
    },
    {
     "data": {
      "image/png": "[encoded data removed]",
      "text/plain": [
       "<Figure size 800x400 with 1 Axes>"
      ]
     },
     "metadata": {},
     "output_type": "display_data"
    }
   ],
   "source": [
    "# Plotting: Distribution of LIFESTAGE\n",
    "plt.figure(figsize=(20, 10))\n",
    "sns.countplot(x='LIFESTAGE', data=loyal_customers)\n",
    "plt.title(\"Distribution of LIFESTAGE among Loyal Customers\")\n",
    "plt.xlabel(\"Lifestage\")\n",
    "plt.ylabel(\"Count\")\n",
    "plt.tight_layout()\n",
    "plt.show()\n",
    "\n",
    "# Plotting: Distribution of PREMIUM_CUSTOMER\n",
    "plt.figure(figsize=(8, 4))\n",
    "sns.countplot(x='PREMIUM_CUSTOMER', data=loyal_customers)\n",
    "plt.title(\"Distribution of Premium Customer Status among Loyal Customers\")\n",
    "plt.xlabel(\"Premium Customer Status\")\n",
    "plt.ylabel(\"Count\")\n",
    "plt.tight_layout()\n",
    "plt.show()\n"
   ]
  },
  {
   "cell_type": "code",
   "execution_count": 31,
   "id": "88b3e6ec",
   "metadata": {},
   "outputs": [
    {
     "name": "stdout",
     "output_type": "stream",
     "text": [
      "LIFESTAGE\n",
      "OLDER SINGLES/COUPLES     402426.75\n",
      "RETIREES                  366470.90\n",
      "OLDER FAMILIES            353767.20\n",
      "YOUNG FAMILIES            316160.10\n",
      "YOUNG SINGLES/COUPLES     260405.30\n",
      "MIDAGE SINGLES/COUPLES    184751.30\n",
      "NEW FAMILIES               50433.45\n",
      "Name: TOT_SALES, dtype: float64\n"
     ]
    }
   ],
   "source": [
    "# Group loyal customers by LIFESTAGE to identify the most common group\n",
    "loyal_customer_marital_trends = purchase_behaviour_df.merge(\n",
    "    transaction_df[['LYLTY_CARD_NBR', 'TOT_SALES']], \n",
    "    on='LYLTY_CARD_NBR'\n",
    ").groupby('LIFESTAGE')['TOT_SALES'].sum().sort_values(ascending=False)\n",
    "\n",
    "print(loyal_customer_marital_trends)\n"
   ]
  },
  {
   "cell_type": "markdown",
   "id": "39f68d74",
   "metadata": {},
   "source": [
    "## Printing Summary Statistics of Loyal Customers:"
   ]
  },
  {
   "cell_type": "code",
   "execution_count": 28,
   "id": "e43f8875",
   "metadata": {},
   "outputs": [
    {
     "name": "stdout",
     "output_type": "stream",
     "text": [
      "\n",
      "Loyal Customer Demographics Summary:\n",
      "             LIFESTAGE PREMIUM_CUSTOMER\n",
      "count             1220             1220\n",
      "unique               6                3\n",
      "top     OLDER FAMILIES           Budget\n",
      "freq               438              515\n"
     ]
    }
   ],
   "source": [
    "loyal_demo_summary = loyal_customers[['LIFESTAGE', 'PREMIUM_CUSTOMER']].describe(include='all')\n",
    "print(\"\\nLoyal Customer Demographics Summary:\")\n",
    "print(loyal_demo_summary)"
   ]
  },
  {
   "cell_type": "markdown",
   "id": "6ee9b7aa",
   "metadata": {},
   "source": [
    "## Hypothesis Comments:"
   ]
  },
  {
   "cell_type": "markdown",
   "id": "8ed690ef",
   "metadata": {},
   "source": [
    "### 1. Top 3 Profitable Products: The top 3 bestselling products contribute 5.77% to the total sales, highlighting their consistent popularity and strong appeal among customers."
   ]
  },
  {
   "cell_type": "markdown",
   "id": "79471ca7",
   "metadata": {},
   "source": [
    "### 2. Premium Customers Drive Revenue: Premium customers represent a significant portion of the loyal customer base and spend more per transaction. Offering exclusive deals or loyalty rewards can further enhance their engagement and retention."
   ]
  },
  {
   "cell_type": "markdown",
   "id": "f00ee176",
   "metadata": {},
   "source": [
    "### 3. Loyal Customers’ Lifestage: The most loyal customers are primarily from the \"Older Singles/Couples\" segment, contributing the highest sales (₹402,426.75), followed by \"Retirees\" (₹366,470.90) and \"Older Families\" (₹353,767.20). This suggests that older customers, both individuals and families, prefer consistent and reliable products, making them a key segment to target."
   ]
  }
 ],
 "metadata": {
  "kernelspec": {
   "display_name": "Python 3 (ipykernel)",
   "language": "python",
   "name": "python3"
  },
  "language_info": {
   "codemirror_mode": {
    "name": "ipython",
    "version": 3
   },
   "file_extension": ".py",
   "mimetype": "text/x-python",
   "name": "python",
   "nbconvert_exporter": "python",
   "pygments_lexer": "ipython3",
   "version": "3.11.5"
  }
 },
 "nbformat": 4,
 "nbformat_minor": 5
}
